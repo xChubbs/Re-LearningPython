{
 "cells": [
  {
   "cell_type": "markdown",
   "metadata": {},
   "source": [
    "---\n",
    "\n",
    "_You are currently looking at **version 1.0** of this notebook. To download notebooks and datafiles, as well as get help on Jupyter notebooks in the Coursera platform, visit the [Jupyter Notebook FAQ](https://www.coursera.org/learn/python-text-mining/resources/d9pwm) course resource._\n",
    "\n",
    "---"
   ]
  },
  {
   "cell_type": "markdown",
   "metadata": {},
   "source": [
    "# Assignment 2 - Introduction to NLTK\n",
    "\n",
    "In part 1 of this assignment you will use nltk to explore the Herman Melville novel Moby Dick. Then in part 2 you will create a spelling recommender function that uses nltk to find words similar to the misspelling. "
   ]
  },
  {
   "cell_type": "markdown",
   "metadata": {},
   "source": [
    "## Part 1 - Analyzing Moby Dick"
   ]
  },
  {
   "cell_type": "code",
   "execution_count": 1,
   "metadata": {},
   "outputs": [
    {
     "name": "stderr",
     "output_type": "stream",
     "text": [
      "[nltk_data] Downloading package punkt to\n",
      "[nltk_data]     C:\\Users\\lujan\\AppData\\Roaming\\nltk_data...\n",
      "[nltk_data]   Package punkt is already up-to-date!\n",
      "[nltk_data] Downloading package wordnet to\n",
      "[nltk_data]     C:\\Users\\lujan\\AppData\\Roaming\\nltk_data...\n",
      "[nltk_data]   Package wordnet is already up-to-date!\n",
      "[nltk_data] Downloading package omw-1.4 to\n",
      "[nltk_data]     C:\\Users\\lujan\\AppData\\Roaming\\nltk_data...\n",
      "[nltk_data]   Package omw-1.4 is already up-to-date!\n",
      "[nltk_data] Downloading package averaged_perceptron_tagger to\n",
      "[nltk_data]     C:\\Users\\lujan\\AppData\\Roaming\\nltk_data...\n",
      "[nltk_data]   Package averaged_perceptron_tagger is already up-to-\n",
      "[nltk_data]       date!\n"
     ]
    },
    {
     "data": {
      "text/plain": [
       "True"
      ]
     },
     "execution_count": 1,
     "metadata": {},
     "output_type": "execute_result"
    }
   ],
   "source": [
    "# Imports and downloads needed\n",
    "# ---- Imports ---- #\n",
    "import nltk\n",
    "import pandas as pd\n",
    "import numpy as np\n",
    "\n",
    "# ---- Downloads ---- #\n",
    "nltk.download('punkt')\n",
    "nltk.download('wordnet')\n",
    "nltk.download('omw-1.4')\n",
    "nltk.download('averaged_perceptron_tagger')\n"
   ]
  },
  {
   "cell_type": "code",
   "execution_count": 2,
   "metadata": {
    "collapsed": true
   },
   "outputs": [],
   "source": [
    "# If you would like to work with the raw text you can use 'moby_raw'\n",
    "with open('moby.txt', 'r') as f:\n",
    "    moby_raw = f.read()\n",
    "    \n",
    "# If you would like to work with the novel in nltk.Text format you can use 'text1'\n",
    "moby_tokens = nltk.word_tokenize(moby_raw)\n",
    "text1 = nltk.Text(moby_tokens)"
   ]
  },
  {
   "cell_type": "markdown",
   "metadata": {},
   "source": [
    "### Example 1\n",
    "\n",
    "How many tokens (words and punctuation symbols) are in text1?\n",
    "\n",
    "*This function should return an integer.*"
   ]
  },
  {
   "cell_type": "code",
   "execution_count": 3,
   "metadata": {
    "collapsed": true
   },
   "outputs": [
    {
     "data": {
      "text/plain": [
       "255028"
      ]
     },
     "execution_count": 3,
     "metadata": {},
     "output_type": "execute_result"
    }
   ],
   "source": [
    "def example_one():\n",
    "    \n",
    "    return len(nltk.word_tokenize(moby_raw)) # or alternatively len(text1)\n",
    "\n",
    "example_one()"
   ]
  },
  {
   "cell_type": "markdown",
   "metadata": {},
   "source": [
    "### Example 2\n",
    "\n",
    "How many unique tokens (unique words and punctuation) does text1 have?\n",
    "\n",
    "*This function should return an integer.*"
   ]
  },
  {
   "cell_type": "code",
   "execution_count": 4,
   "metadata": {
    "collapsed": true
   },
   "outputs": [
    {
     "data": {
      "text/plain": [
       "20742"
      ]
     },
     "execution_count": 4,
     "metadata": {},
     "output_type": "execute_result"
    }
   ],
   "source": [
    "def example_two():\n",
    "    \n",
    "    return len(set(nltk.word_tokenize(moby_raw))) # or alternatively len(set(text1))\n",
    "\n",
    "example_two()"
   ]
  },
  {
   "cell_type": "markdown",
   "metadata": {},
   "source": [
    "### Example 3\n",
    "\n",
    "After lemmatizing the verbs, how many unique tokens does text1 have?\n",
    "\n",
    "*This function should return an integer.*"
   ]
  },
  {
   "cell_type": "code",
   "execution_count": 5,
   "metadata": {
    "collapsed": true
   },
   "outputs": [
    {
     "data": {
      "text/plain": [
       "16887"
      ]
     },
     "execution_count": 5,
     "metadata": {},
     "output_type": "execute_result"
    }
   ],
   "source": [
    "from nltk.stem import WordNetLemmatizer\n",
    "\n",
    "def example_three():\n",
    "\n",
    "    lemmatizer = WordNetLemmatizer()\n",
    "    lemmatized = [lemmatizer.lemmatize(w,'v') for w in text1]\n",
    "\n",
    "    return len(set(lemmatized))\n",
    "\n",
    "example_three()"
   ]
  },
  {
   "cell_type": "markdown",
   "metadata": {},
   "source": [
    "### Question 1\n",
    "\n",
    "What is the lexical diversity of the given text input? (i.e. ratio of unique tokens to the total number of tokens)\n",
    "\n",
    "*This function should return a float.*"
   ]
  },
  {
   "cell_type": "code",
   "execution_count": 6,
   "metadata": {
    "collapsed": true
   },
   "outputs": [
    {
     "data": {
      "text/plain": [
       "0.08133224587104161"
      ]
     },
     "execution_count": 6,
     "metadata": {},
     "output_type": "execute_result"
    }
   ],
   "source": [
    "def answer_one():\n",
    "\n",
    "    # Lenght of Tokens & Unique tokens\n",
    "    lenUnique = len(set(text1))\n",
    "    lenTokens = len(text1)\n",
    "    \n",
    "    # Define the ratio\n",
    "    ratio = lenUnique / lenTokens\n",
    "\n",
    "    return ratio\n",
    "\n",
    "answer_one()"
   ]
  },
  {
   "cell_type": "markdown",
   "metadata": {},
   "source": [
    "### Question 2\n",
    "\n",
    "What percentage of tokens is 'whale'or 'Whale'?\n",
    "\n",
    "*This function should return a float.*"
   ]
  },
  {
   "cell_type": "code",
   "execution_count": 7,
   "metadata": {
    "collapsed": true
   },
   "outputs": [
    {
     "data": {
      "text/plain": [
       "0.004125037250811676"
      ]
     },
     "execution_count": 7,
     "metadata": {},
     "output_type": "execute_result"
    }
   ],
   "source": [
    "def answer_two():\n",
    "\n",
    "    # Lenght of Tokens\n",
    "    lenTokens = len(text1)\n",
    "    \n",
    "    # Filter the raw data just to have the tokens wanted\n",
    "    whales = list(filter(lambda Token : (Token == 'Whale') or (Token == 'whale'), text1))\n",
    "    \n",
    "    # Lenght of Whales\n",
    "    lenWhales = len(whales)\n",
    "\n",
    "    # Define the ratio\n",
    "    ratio = lenWhales / lenTokens\n",
    "\n",
    "    return ratio\n",
    "\n",
    "answer_two()"
   ]
  },
  {
   "cell_type": "markdown",
   "metadata": {},
   "source": [
    "### Question 3\n",
    "\n",
    "What are the 20 most frequently occurring (unique) tokens in the text? What is their frequency?\n",
    "\n",
    "*This function should return a list of 20 tuples where each tuple is of the form `(token, frequency)`. The list should be sorted in descending order of frequency.*"
   ]
  },
  {
   "cell_type": "code",
   "execution_count": 8,
   "metadata": {
    "collapsed": true
   },
   "outputs": [
    {
     "data": {
      "text/plain": [
       "[(',', 19204),\n",
       " ('the', 13715),\n",
       " ('.', 7306),\n",
       " ('of', 6513),\n",
       " ('and', 6010),\n",
       " ('a', 4545),\n",
       " ('to', 4515),\n",
       " (';', 4173),\n",
       " ('in', 3908),\n",
       " ('that', 2978),\n",
       " ('his', 2459),\n",
       " ('it', 2196),\n",
       " ('I', 2113),\n",
       " ('!', 1767),\n",
       " ('is', 1722),\n",
       " ('--', 1713),\n",
       " ('with', 1659),\n",
       " ('he', 1658),\n",
       " ('was', 1639),\n",
       " ('as', 1620)]"
      ]
     },
     "execution_count": 8,
     "metadata": {},
     "output_type": "execute_result"
    }
   ],
   "source": [
    "from nltk.probability import FreqDist\n",
    "\n",
    "def answer_three():\n",
    "    \n",
    "    # Check the frequency for each unique Token\n",
    "    freqToken = FreqDist(text1)\n",
    "    freqs = freqToken.values()\n",
    "    tokens = freqToken.keys()\n",
    "\n",
    "    # Separate the first 20 tokens\n",
    "    sortedTokens = [(token, freq) for freq, token in \n",
    "                    sorted(zip(freqs, tokens), reverse=True)]\n",
    "                    \n",
    "    firstTokens = sortedTokens[:20]\n",
    "\n",
    "    return firstTokens\n",
    "\n",
    "answer_three()"
   ]
  },
  {
   "cell_type": "markdown",
   "metadata": {},
   "source": [
    "### Question 4\n",
    "\n",
    "What tokens have a length of greater than 5 and frequency of more than 150?\n",
    "\n",
    "*This function should return an alphabetically sorted list of the tokens that match the above constraints. To sort your list, use `sorted()`*"
   ]
  },
  {
   "cell_type": "code",
   "execution_count": 9,
   "metadata": {
    "collapsed": true
   },
   "outputs": [
    {
     "data": {
      "text/plain": [
       "['Captain',\n",
       " 'Pequod',\n",
       " 'Queequeg',\n",
       " 'Starbuck',\n",
       " 'almost',\n",
       " 'before',\n",
       " 'himself',\n",
       " 'little',\n",
       " 'seemed',\n",
       " 'should',\n",
       " 'though',\n",
       " 'through',\n",
       " 'whales',\n",
       " 'without']"
      ]
     },
     "execution_count": 9,
     "metadata": {},
     "output_type": "execute_result"
    }
   ],
   "source": [
    "def answer_four():\n",
    "    \n",
    "    # Tokenization of text and filtering\n",
    "    freqToken = FreqDist(text1)\n",
    "    tokens = freqToken.keys()\n",
    "    freqs = freqToken.values()\n",
    "    tokens = [(token, freq) for token, freq in zip(tokens, freqs)]\n",
    "\n",
    "    # Filtering by conditions\n",
    "    filtered = []\n",
    "\n",
    "    for item in tokens:\n",
    "        token, freq = item[0], item[-1]\n",
    "        if len(token) > 5:\n",
    "            if freq > 150:\n",
    "                filtered += [token]\n",
    "\n",
    "    # Sort of filtered\n",
    "    sortedFiltered = sorted(filtered)\n",
    "    return sortedFiltered\n",
    "\n",
    "answer_four()"
   ]
  },
  {
   "cell_type": "markdown",
   "metadata": {},
   "source": [
    "### Question 5\n",
    "\n",
    "Find the longest word in text1 and that word's length.\n",
    "\n",
    "*This function should return a tuple `(longest_word, length)`.*"
   ]
  },
  {
   "cell_type": "code",
   "execution_count": 10,
   "metadata": {
    "collapsed": true
   },
   "outputs": [
    {
     "data": {
      "text/plain": [
       "(\"twelve-o'clock-at-night\", 23)"
      ]
     },
     "execution_count": 10,
     "metadata": {},
     "output_type": "execute_result"
    }
   ],
   "source": [
    "def answer_five():\n",
    "    \n",
    "    # Create a list of (word, lenght)\n",
    "    wordLens = [len(word) for word in set(text1)]\n",
    "    wordLen = [(word, lenght) for lenght, word \n",
    "                in sorted(zip(wordLens, set(text1)))]\n",
    "\n",
    "    return wordLen[-1]\n",
    "\n",
    "answer_five()"
   ]
  },
  {
   "cell_type": "markdown",
   "metadata": {},
   "source": [
    "### Question 6\n",
    "\n",
    "What unique words have a frequency of more than 2000? What is their frequency?\n",
    "\n",
    "\"Hint:  you may want to use `isalpha()` to check if the token is a word and not punctuation.\"\n",
    "\n",
    "*This function should return a list of tuples of the form `(frequency, word)` sorted in descending order of frequency.*"
   ]
  },
  {
   "cell_type": "code",
   "execution_count": 11,
   "metadata": {
    "collapsed": true
   },
   "outputs": [
    {
     "data": {
      "text/plain": [
       "[(13715, 'the'),\n",
       " (6513, 'of'),\n",
       " (6010, 'and'),\n",
       " (4545, 'a'),\n",
       " (4515, 'to'),\n",
       " (3908, 'in'),\n",
       " (2978, 'that'),\n",
       " (2459, 'his'),\n",
       " (2196, 'it'),\n",
       " (2113, 'I')]"
      ]
     },
     "execution_count": 11,
     "metadata": {},
     "output_type": "execute_result"
    }
   ],
   "source": [
    "def answer_six():\n",
    "    \n",
    "    # Define the frequency of the tokens\n",
    "    freqToken = FreqDist(text1)\n",
    "    freqs = freqToken.keys()\n",
    "    tokens = freqToken.values()\n",
    "\n",
    "    # Filter and reorganizing tokens\n",
    "    tokenFreq = []\n",
    "\n",
    "    for token, freq in zip(freqs, tokens):\n",
    "        \n",
    "        if token.isalpha():\n",
    "            if freq > 2000:\n",
    "                tokenFreq += [(freq, token)]\n",
    "\n",
    "    return sorted(tokenFreq, reverse= True)\n",
    "\n",
    "answer_six()"
   ]
  },
  {
   "cell_type": "markdown",
   "metadata": {},
   "source": [
    "### Question 7\n",
    "\n",
    "What is the average number of tokens per sentence?\n",
    "\n",
    "*This function should return a float.*"
   ]
  },
  {
   "cell_type": "code",
   "execution_count": 12,
   "metadata": {
    "collapsed": true
   },
   "outputs": [
    {
     "data": {
      "text/plain": [
       "25.88591149005278"
      ]
     },
     "execution_count": 12,
     "metadata": {},
     "output_type": "execute_result"
    }
   ],
   "source": [
    "from nltk.tokenize import sent_tokenize\n",
    "def answer_seven():\n",
    "    \n",
    "    # Tokenization of each sentence\n",
    "    sentences = sent_tokenize(moby_raw)\n",
    "    \n",
    "    # Count of tokens per sentence\n",
    "    counts = [len(nltk.word_tokenize(sentence)) for sentence in sentences]\n",
    "\n",
    "    # Definition of the average\n",
    "    average = sum(counts) / len(counts)\n",
    "\n",
    "    return average\n",
    "\n",
    "answer_seven()"
   ]
  },
  {
   "cell_type": "markdown",
   "metadata": {},
   "source": [
    "### Question 8\n",
    "\n",
    "What are the 5 most frequent parts of speech in this text? What is their frequency?\n",
    "\n",
    "*This function should return a list of tuples of the form `(part_of_speech, frequency)` sorted in descending order of frequency.*"
   ]
  },
  {
   "cell_type": "code",
   "execution_count": 37,
   "metadata": {
    "collapsed": true
   },
   "outputs": [
    {
     "data": {
      "text/plain": [
       "[('NN', 32727), ('IN', 28662), ('DT', 25879), (',', 19204), ('JJ', 17613)]"
      ]
     },
     "execution_count": 37,
     "metadata": {},
     "output_type": "execute_result"
    }
   ],
   "source": [
    "def answer_eight():\n",
    "\n",
    "    # Dictionary of posTags\n",
    "    posTokens = [pos for _, pos in nltk.pos_tag(text1)]\n",
    "    \n",
    "    # Count for each POS\n",
    "    freqPOS = [(pos, posTokens.count(pos)) for pos in set(posTokens)]\n",
    "\n",
    "    # Sorted count of POS\n",
    "    sortedPOS = sorted(freqPOS, key= lambda el : el[-1], reverse= True)\n",
    "\n",
    "    return sortedPOS[:5]\n",
    "\n",
    "answer_eight()"
   ]
  },
  {
   "cell_type": "markdown",
   "metadata": {},
   "source": [
    "## Part 2 - Spelling Recommender\n",
    "\n",
    "For this part of the assignment you will create three different spelling recommenders, that each take a list of misspelled words and recommends a correctly spelled word for every word in the list.\n",
    "\n",
    "For every misspelled word, the recommender should find find the word in `correct_spellings` that has the shortest distance*, and starts with the same letter as the misspelled word, and return that word as a recommendation.\n",
    "\n",
    "*Each of the three different recommenders will use a different distance measure (outlined below).\n",
    "\n",
    "Each of the recommenders should provide recommendations for the three default words provided: `['cormulent', 'incendenece', 'validrate']`."
   ]
  },
  {
   "cell_type": "code",
   "execution_count": 14,
   "metadata": {
    "collapsed": true
   },
   "outputs": [
    {
     "name": "stderr",
     "output_type": "stream",
     "text": [
      "[nltk_data] Downloading package words to\n",
      "[nltk_data]     C:\\Users\\lujan\\AppData\\Roaming\\nltk_data...\n",
      "[nltk_data]   Package words is already up-to-date!\n"
     ]
    }
   ],
   "source": [
    "from nltk.corpus import words\n",
    "\n",
    "nltk.download('words')\n",
    "\n",
    "correct_spellings = words.words()"
   ]
  },
  {
   "cell_type": "markdown",
   "metadata": {},
   "source": [
    "### Question 9\n",
    "\n",
    "For this recommender, your function should provide recommendations for the three default words provided above using the following distance metric:\n",
    "\n",
    "**[Jaccard distance](https://en.wikipedia.org/wiki/Jaccard_index) on the trigrams of the two words.**\n",
    "\n",
    "*This function should return a list of length three:\n",
    "`['cormulent_reccomendation', 'incendenece_reccomendation', 'validrate_reccomendation']`.*"
   ]
  },
  {
   "cell_type": "code",
   "execution_count": 44,
   "metadata": {
    "collapsed": true
   },
   "outputs": [
    {
     "data": {
      "text/plain": [
       "['corpulent', 'indecence', 'validate']"
      ]
     },
     "execution_count": 44,
     "metadata": {},
     "output_type": "execute_result"
    }
   ],
   "source": [
    "def answer_nine(entries = ['cormulent', 'incendenece', 'validrate']):\n",
    "\n",
    "    # Trigram function\n",
    "    def trigrams(spelling):\n",
    "        \n",
    "        # Control trigram\n",
    "        controlTrigram = (spelling[-3], spelling[-2], spelling[-1])\n",
    "\n",
    "        # Generation of trigrams\n",
    "        trigrams = []\n",
    "        for index, char in enumerate(spelling):\n",
    "            \n",
    "            # Generation of trigram\n",
    "            trigram = (char, spelling[index +1], spelling[index +2])\n",
    "            trigrams += [trigram]\n",
    "\n",
    "            # Control of flow\n",
    "            if trigram == controlTrigram:\n",
    "                break\n",
    "\n",
    "        return set(trigrams)\n",
    "            \n",
    "\n",
    "    # Generation of recomendation\n",
    "    recomendation = []\n",
    "\n",
    "    #   iterate for each word\n",
    "    for word in entries:\n",
    "\n",
    "        # Create near words by start char\n",
    "        nearSpellings = list(filter(lambda spelling : (spelling.lower()[0] == word[0]) and len(spelling) > 3, correct_spellings))\n",
    "\n",
    "        # Generate trigrams for word & spellings\n",
    "        wordTrigram = trigrams(word)\n",
    "        nearTrigrams = [trigrams(nearSpelling) for nearSpelling in nearSpellings]\n",
    "\n",
    "        # Generate Jaccard distances\n",
    "        jaccDist = []\n",
    "\n",
    "        for nearTrigram, nearSpelling in zip(nearTrigrams, nearSpellings):\n",
    "\n",
    "            # Generation of distance\n",
    "            dist = len(wordTrigram.intersection(nearTrigram)) /  (len(wordTrigram) + len(nearTrigram) - len(wordTrigram.intersection(nearTrigram)))\n",
    "\n",
    "            # Group of (dist, word)\n",
    "            jaccDist += [(dist, nearSpelling)]\n",
    "\n",
    "\n",
    "        # Sorting and addition of recomendation\n",
    "        sortedJaccDist = sorted(jaccDist)\n",
    "        recomendation += [sortedJaccDist[-1][-1]]\n",
    "\n",
    "    return recomendation \n",
    "    \n",
    "answer_nine()"
   ]
  },
  {
   "cell_type": "markdown",
   "metadata": {},
   "source": [
    "### Question 10\n",
    "\n",
    "For this recommender, your function should provide recommendations for the three default words provided above using the following distance metric:\n",
    "\n",
    "**[Jaccard distance](https://en.wikipedia.org/wiki/Jaccard_index) on the 4-grams of the two words.**\n",
    "\n",
    "*This function should return a list of length three:\n",
    "`['cormulent_reccomendation', 'incendenece_reccomendation', 'validrate_reccomendation']`.*"
   ]
  },
  {
   "cell_type": "code",
   "execution_count": 54,
   "metadata": {
    "collapsed": true
   },
   "outputs": [
    {
     "data": {
      "text/plain": [
       "['cormus', 'incendiary', 'valid']"
      ]
     },
     "execution_count": 54,
     "metadata": {},
     "output_type": "execute_result"
    }
   ],
   "source": [
    "def answer_ten(entries=['cormulent', 'incendenece', 'validrate']):\n",
    "\n",
    "    # Trigram function\n",
    "    def fourgrams(spelling):\n",
    "        \n",
    "        # Control fourgram\n",
    "        controlFourgram = (spelling[-4], spelling[-3], spelling[-2], spelling[-1])\n",
    "\n",
    "        # Generation of fourgrams\n",
    "        fourgrams = []\n",
    "        for index, char in enumerate(spelling):\n",
    "            \n",
    "            # Generation of fourgram\n",
    "            fourgram = (char, spelling[index +1], spelling[index +2], spelling[index +3])\n",
    "            fourgrams += [fourgram]\n",
    "\n",
    "            # Control of flow\n",
    "            if fourgram == controlFourgram:\n",
    "                break\n",
    "\n",
    "        return set(fourgrams)\n",
    "            \n",
    "\n",
    "    # Generation of recomendation\n",
    "    recomendation = []\n",
    "\n",
    "    #   iterate for each word\n",
    "    for word in entries:\n",
    "\n",
    "        # Create near words by start char\n",
    "        nearSpellings = list(filter(lambda spelling : (spelling.lower()[0] == word[0]) and len(spelling) > 4, correct_spellings))\n",
    "\n",
    "        # Generate fourgrams for word & spellings\n",
    "        wordFourgram = fourgrams(word)\n",
    "        nearFourgrams = [fourgrams(nearSpelling) for nearSpelling in nearSpellings]\n",
    "\n",
    "        # Generate Jaccard distances\n",
    "        jaccDist = []\n",
    "\n",
    "        for nearFourgram, nearSpelling in zip(nearFourgrams, nearSpellings):\n",
    "\n",
    "            # Generation of distance\n",
    "            dist = len(wordFourgram.intersection(nearFourgram)) /  (len(wordFourgram) + len(nearFourgram) - len(wordFourgram.intersection(nearFourgram)))\n",
    "\n",
    "            # Group of (dist, word)\n",
    "            jaccDist += [(dist, nearSpelling)]\n",
    "\n",
    "\n",
    "        # Sorting and addition of recomendation\n",
    "        sortedJaccDist = sorted(jaccDist)\n",
    "        recomendation += [sortedJaccDist[-1][-1]]\n",
    "\n",
    "    return recomendation \n",
    "    \n",
    "answer_ten()"
   ]
  },
  {
   "cell_type": "markdown",
   "metadata": {},
   "source": [
    "### Question 11\n",
    "\n",
    "For this recommender, your function should provide recommendations for the three default words provided above using the following distance metric:\n",
    "\n",
    "**[Edit distance on the two words with transpositions.](https://en.wikipedia.org/wiki/Damerau%E2%80%93Levenshtein_distance)**\n",
    "\n",
    "*This function should return a list of length three:\n",
    "`['cormulent_reccomendation', 'incendenece_reccomendation', 'validrate_reccomendation']`.*"
   ]
  },
  {
   "cell_type": "code",
   "execution_count": 68,
   "metadata": {
    "collapsed": true
   },
   "outputs": [
    {
     "data": {
      "text/plain": [
       "['corpulent', 'intendence', 'validate']"
      ]
     },
     "execution_count": 68,
     "metadata": {},
     "output_type": "execute_result"
    }
   ],
   "source": [
    "import numpy as np\n",
    "\n",
    "def answer_eleven(entries=['cormulent', 'incendenece', 'validrate']):\n",
    "\n",
    "    def damerauLevenshtein(str1, str2):\n",
    "\n",
    "        \"\"\"\n",
    "        Resource used for the algorithm: https://en.wikipedia.org/wiki/Damerau–Levenshtein_distance\n",
    "        This is the result of the translation of code extracted from the resoruce\n",
    "        \"\"\"\n",
    "\n",
    "        # Generation of DL matrix\n",
    "        DL = np.zeros([len(str1), len(str2)])\n",
    "\n",
    "        for i in range(len(str1)):\n",
    "            DL[i, 0] = i\n",
    "\n",
    "        for j in range(len(str2)):\n",
    "            DL[0, j] = j\n",
    "\n",
    "        # Iteration of the DL matrix\n",
    "        for index1 in range(1, len(str1)):\n",
    "            for index2 in range(1, len(str2)):\n",
    "                \n",
    "                # Definition of cost\n",
    "                cost = 1\n",
    "\n",
    "                if str1[index1] == str2[index2]:\n",
    "                    cost = 0 # Similarity\n",
    "                \n",
    "                DL[index1, index2] = min(\n",
    "                                        DL[index1 -1, index2] + 1,       # Deletion\n",
    "                                        DL[index1, index2 -1] + 1,       # Insertion\n",
    "                                        DL[index1 -1, index2 -1] + cost, # Substitution\n",
    "                                        )\n",
    "\n",
    "                if (index1 > 1 and index2 > 1) and (str1[index1] == str2[index2 -1] and str1[index1 -1] == str2[index2]):\n",
    "                    DL[index1, index2] = min(DL[index1, index2], DL[index1 -2, index2 -2] +1)\n",
    "        \n",
    "        return DL[-1][-1]\n",
    "\n",
    "    # Iteration for each word\n",
    "    recomendations = []\n",
    "\n",
    "    for word in entries:\n",
    "\n",
    "        # Define nearest spellings for word\n",
    "        nearSpellings = list(filter( lambda spelling : spelling.lower()[0] == word.lower()[0], correct_spellings))\n",
    "\n",
    "        # Define distribution for Spellings\n",
    "        spellingDist = [(damerauLevenshtein(word, spelling), spelling) for spelling in nearSpellings]\n",
    "\n",
    "        # Sorted distribution for spellings\n",
    "        sortedSpellings = sorted(spellingDist)\n",
    "\n",
    "        recomendations += [sortedSpellings[0][-1]]\n",
    "\n",
    "    return recomendations\n",
    "    \n",
    "answer_eleven()"
   ]
  }
 ],
 "metadata": {
  "coursera": {
   "course_slug": "python-text-mining",
   "graded_item_id": "r35En",
   "launcher_item_id": "tCVfW",
   "part_id": "NTVgL"
  },
  "kernelspec": {
   "display_name": "Python 3.10.0 64-bit",
   "language": "python",
   "name": "python3"
  },
  "language_info": {
   "codemirror_mode": {
    "name": "ipython",
    "version": 3
   },
   "file_extension": ".py",
   "mimetype": "text/x-python",
   "name": "python",
   "nbconvert_exporter": "python",
   "pygments_lexer": "ipython3",
   "version": "3.10.0"
  },
  "vscode": {
   "interpreter": {
    "hash": "369f2c481f4da34e4445cda3fffd2e751bd1c4d706f27375911949ba6bb62e1c"
   }
  }
 },
 "nbformat": 4,
 "nbformat_minor": 2
}
